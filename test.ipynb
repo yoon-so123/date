{
 "cells": [
  {
   "cell_type": "code",
   "execution_count": 3,
   "id": "232eb30d",
   "metadata": {},
   "outputs": [
    {
     "data": {
      "text/plain": [
       "0"
      ]
     },
     "execution_count": 3,
     "metadata": {},
     "output_type": "execute_result"
    }
   ],
   "source": [
    "a = 0\n",
    "a"
   ]
  },
  {
   "cell_type": "code",
   "execution_count": 4,
   "id": "a5d63b49",
   "metadata": {},
   "outputs": [
    {
     "data": {
      "text/plain": [
       "1"
      ]
     },
     "execution_count": 4,
     "metadata": {},
     "output_type": "execute_result"
    }
   ],
   "source": [
    "a +=1\n",
    "a"
   ]
  },
  {
   "cell_type": "code",
   "execution_count": 5,
   "id": "9e85954f",
   "metadata": {},
   "outputs": [
    {
     "data": {
      "text/plain": [
       "0"
      ]
     },
     "execution_count": 5,
     "metadata": {},
     "output_type": "execute_result"
    }
   ],
   "source": [
    "a += -1\n",
    "a"
   ]
  },
  {
   "cell_type": "markdown",
   "id": "1c719f01",
   "metadata": {},
   "source": [
    "# 제목\n",
    "- 셀 연습하기\n",
    "- 셀 실행 방법 : 재생버튼 누르기 / ctrl + Enter / shift + Enter"
   ]
  },
  {
   "cell_type": "code",
   "execution_count": 6,
   "id": "a5d48b9c",
   "metadata": {},
   "outputs": [
    {
     "name": "stdout",
     "output_type": "stream",
     "text": [
      "hio\n"
     ]
    }
   ],
   "source": [
    "print(\"hio\")"
   ]
  },
  {
   "cell_type": "code",
   "execution_count": null,
   "id": "daf9f99f",
   "metadata": {},
   "outputs": [],
   "source": [
    "# ctrl + Enter 해당 셀만 실행\n",
    "# shift + Enter 셀 실행 후 아래에 새 셀 생성\n"
   ]
  },
  {
   "cell_type": "code",
   "execution_count": 7,
   "id": "688bf0ab",
   "metadata": {},
   "outputs": [],
   "source": [
    "import numpy as np #계산속도가 빠른 선형대수학 라이브러리\n",
    "import pandas as pd #엑셀같은 표를 자유자재로 쓸수 있는 라이브러리\n",
    "#test 가상환경에 numpy 와 pandas 설치되어있어야함\n",
    "#pip install numpy pandas"
   ]
  },
  {
   "cell_type": "markdown",
   "id": "24863b9e",
   "metadata": {},
   "source": [
    "# pandas\n",
    "- 크게 자료형이 2가지 있음\n",
    "- Series : 리스트처럼 1줄짜리 1차원 값 / vector\n",
    "- DataFrame : 2차원 값 / array"
   ]
  },
  {
   "cell_type": "code",
   "execution_count": 9,
   "id": "abc30f91",
   "metadata": {},
   "outputs": [
    {
     "data": {
      "text/plain": [
       "0     apple\n",
       "1    banana\n",
       "2    circle\n",
       "3     drive\n",
       "4     email\n",
       "dtype: object"
      ]
     },
     "execution_count": 9,
     "metadata": {},
     "output_type": "execute_result"
    }
   ],
   "source": [
    "s = pd.Series(['apple','banana','circle','drive','email'])\n",
    "s"
   ]
  },
  {
   "cell_type": "code",
   "execution_count": 10,
   "id": "dfb8a235",
   "metadata": {},
   "outputs": [
    {
     "data": {
      "text/html": [
       "<div>\n",
       "<style scoped>\n",
       "    .dataframe tbody tr th:only-of-type {\n",
       "        vertical-align: middle;\n",
       "    }\n",
       "\n",
       "    .dataframe tbody tr th {\n",
       "        vertical-align: top;\n",
       "    }\n",
       "\n",
       "    .dataframe thead th {\n",
       "        text-align: right;\n",
       "    }\n",
       "</style>\n",
       "<table border=\"1\" class=\"dataframe\">\n",
       "  <thead>\n",
       "    <tr style=\"text-align: right;\">\n",
       "      <th></th>\n",
       "      <th>이름</th>\n",
       "      <th>나이</th>\n",
       "    </tr>\n",
       "  </thead>\n",
       "  <tbody>\n",
       "    <tr>\n",
       "      <th>0</th>\n",
       "      <td>철수</td>\n",
       "      <td>25</td>\n",
       "    </tr>\n",
       "    <tr>\n",
       "      <th>1</th>\n",
       "      <td>영희</td>\n",
       "      <td>35</td>\n",
       "    </tr>\n",
       "  </tbody>\n",
       "</table>\n",
       "</div>"
      ],
      "text/plain": [
       "   이름  나이\n",
       "0  철수  25\n",
       "1  영희  35"
      ]
     },
     "execution_count": 10,
     "metadata": {},
     "output_type": "execute_result"
    }
   ],
   "source": [
    "data={'이름':['철수','영희'], '나이':[25,35]}\n",
    "df = pd.DataFrame(data)\n",
    "df"
   ]
  },
  {
   "cell_type": "code",
   "execution_count": null,
   "id": "4bbbca37",
   "metadata": {},
   "outputs": [],
   "source": []
  }
 ],
 "metadata": {
  "kernelspec": {
   "display_name": "test",
   "language": "python",
   "name": "python3"
  },
  "language_info": {
   "codemirror_mode": {
    "name": "ipython",
    "version": 3
   },
   "file_extension": ".py",
   "mimetype": "text/x-python",
   "name": "python",
   "nbconvert_exporter": "python",
   "pygments_lexer": "ipython3",
   "version": "3.11.11"
  }
 },
 "nbformat": 4,
 "nbformat_minor": 5
}
